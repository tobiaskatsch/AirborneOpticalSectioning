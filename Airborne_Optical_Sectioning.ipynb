{
  "cells": [
    {
      "cell_type": "markdown",
      "metadata": {
        "id": "view-in-github",
        "colab_type": "text"
      },
      "source": [
        "<a href=\"https://colab.research.google.com/github/tobiaskatsch/AirborneOpticalSectioning/blob/master/Airborne_Optical_Sectioning.ipynb\" target=\"_parent\"><img src=\"https://colab.research.google.com/assets/colab-badge.svg\" alt=\"Open In Colab\"/></a>"
      ]
    },
    {
      "cell_type": "markdown",
      "metadata": {
        "id": "1wXueq7wBP37"
      },
      "source": [
        "# Airborne Optical Sectioning"
      ]
    },
    {
      "cell_type": "markdown",
      "metadata": {
        "id": "Q0pbpd4FBS-A"
      },
      "source": [
        "## Clone from GitHub and mount Google Drive"
      ]
    },
    {
      "cell_type": "code",
      "execution_count": 1,
      "metadata": {
        "colab": {
          "base_uri": "https://localhost:8080/"
        },
        "id": "xbLq3KSiBArr",
        "outputId": "e394d5dd-e915-4242-aaa2-b7d4603ffe2b"
      },
      "outputs": [
        {
          "output_type": "stream",
          "name": "stdout",
          "text": [
            "Mounted at /content/drive\n",
            "Collecting wandb\n",
            "  Downloading wandb-0.16.1-py3-none-any.whl (2.1 MB)\n",
            "\u001b[2K     \u001b[90m━━━━━━━━━━━━━━━━━━━━━━━━━━━━━━━━━━━━━━━━\u001b[0m \u001b[32m2.1/2.1 MB\u001b[0m \u001b[31m27.8 MB/s\u001b[0m eta \u001b[36m0:00:00\u001b[0m\n",
            "\u001b[?25hRequirement already satisfied: Click!=8.0.0,>=7.1 in /usr/local/lib/python3.10/dist-packages (from wandb) (8.1.7)\n",
            "Collecting GitPython!=3.1.29,>=1.0.0 (from wandb)\n",
            "  Downloading GitPython-3.1.40-py3-none-any.whl (190 kB)\n",
            "\u001b[2K     \u001b[90m━━━━━━━━━━━━━━━━━━━━━━━━━━━━━━━━━━━━━━━━\u001b[0m \u001b[32m190.6/190.6 kB\u001b[0m \u001b[31m25.9 MB/s\u001b[0m eta \u001b[36m0:00:00\u001b[0m\n",
            "\u001b[?25hRequirement already satisfied: requests<3,>=2.0.0 in /usr/local/lib/python3.10/dist-packages (from wandb) (2.31.0)\n",
            "Requirement already satisfied: psutil>=5.0.0 in /usr/local/lib/python3.10/dist-packages (from wandb) (5.9.5)\n",
            "Collecting sentry-sdk>=1.0.0 (from wandb)\n",
            "  Downloading sentry_sdk-1.38.0-py2.py3-none-any.whl (252 kB)\n",
            "\u001b[2K     \u001b[90m━━━━━━━━━━━━━━━━━━━━━━━━━━━━━━━━━━━━━━━━\u001b[0m \u001b[32m252.8/252.8 kB\u001b[0m \u001b[31m31.9 MB/s\u001b[0m eta \u001b[36m0:00:00\u001b[0m\n",
            "\u001b[?25hCollecting docker-pycreds>=0.4.0 (from wandb)\n",
            "  Downloading docker_pycreds-0.4.0-py2.py3-none-any.whl (9.0 kB)\n",
            "Requirement already satisfied: PyYAML in /usr/local/lib/python3.10/dist-packages (from wandb) (6.0.1)\n",
            "Collecting setproctitle (from wandb)\n",
            "  Downloading setproctitle-1.3.3-cp310-cp310-manylinux_2_5_x86_64.manylinux1_x86_64.manylinux_2_17_x86_64.manylinux2014_x86_64.whl (30 kB)\n",
            "Requirement already satisfied: setuptools in /usr/local/lib/python3.10/dist-packages (from wandb) (67.7.2)\n",
            "Requirement already satisfied: appdirs>=1.4.3 in /usr/local/lib/python3.10/dist-packages (from wandb) (1.4.4)\n",
            "Requirement already satisfied: protobuf!=4.21.0,<5,>=3.19.0 in /usr/local/lib/python3.10/dist-packages (from wandb) (3.20.3)\n",
            "Requirement already satisfied: six>=1.4.0 in /usr/local/lib/python3.10/dist-packages (from docker-pycreds>=0.4.0->wandb) (1.16.0)\n",
            "Collecting gitdb<5,>=4.0.1 (from GitPython!=3.1.29,>=1.0.0->wandb)\n",
            "  Downloading gitdb-4.0.11-py3-none-any.whl (62 kB)\n",
            "\u001b[2K     \u001b[90m━━━━━━━━━━━━━━━━━━━━━━━━━━━━━━━━━━━━━━━━\u001b[0m \u001b[32m62.7/62.7 kB\u001b[0m \u001b[31m9.2 MB/s\u001b[0m eta \u001b[36m0:00:00\u001b[0m\n",
            "\u001b[?25hRequirement already satisfied: charset-normalizer<4,>=2 in /usr/local/lib/python3.10/dist-packages (from requests<3,>=2.0.0->wandb) (3.3.2)\n",
            "Requirement already satisfied: idna<4,>=2.5 in /usr/local/lib/python3.10/dist-packages (from requests<3,>=2.0.0->wandb) (3.6)\n",
            "Requirement already satisfied: urllib3<3,>=1.21.1 in /usr/local/lib/python3.10/dist-packages (from requests<3,>=2.0.0->wandb) (2.0.7)\n",
            "Requirement already satisfied: certifi>=2017.4.17 in /usr/local/lib/python3.10/dist-packages (from requests<3,>=2.0.0->wandb) (2023.11.17)\n",
            "Collecting smmap<6,>=3.0.1 (from gitdb<5,>=4.0.1->GitPython!=3.1.29,>=1.0.0->wandb)\n",
            "  Downloading smmap-5.0.1-py3-none-any.whl (24 kB)\n",
            "Installing collected packages: smmap, setproctitle, sentry-sdk, docker-pycreds, gitdb, GitPython, wandb\n",
            "Successfully installed GitPython-3.1.40 docker-pycreds-0.4.0 gitdb-4.0.11 sentry-sdk-1.38.0 setproctitle-1.3.3 smmap-5.0.1 wandb-0.16.1\n"
          ]
        }
      ],
      "source": [
        "from google.colab import drive\n",
        "drive.mount('/content/drive')\n",
        "import os\n",
        "import shutil\n",
        "!pip install wandb\n",
        "import wandb\n",
        "\n",
        "# Define paths, names, and tokens\n",
        "repo_name = 'AirborneOpticalSectioning'\n",
        "base_path = \"drive/MyDrive/ML/AirborneOpticalSectioning\"\n",
        "token_path = os.path.join(base_path, \"token.txt\")\n",
        "\n",
        "# Read the token\n",
        "with open(token_path, 'r') as file:\n",
        "    token = file.read().strip()\n",
        "\n",
        "# Prepare the repository URL\n",
        "repo_url = 'https://github.com/tobiaskatsch/AirborneOpticalSectioning.git'.replace('https://', f'https://{token}:x-oauth-basic@')"
      ]
    },
    {
      "cell_type": "markdown",
      "metadata": {
        "id": "S461BiCuBOSp"
      },
      "source": [
        "## Load Data"
      ]
    },
    {
      "cell_type": "code",
      "execution_count": 2,
      "metadata": {
        "colab": {
          "base_uri": "https://localhost:8080/"
        },
        "id": "Yjlqe5HKB-vH",
        "outputId": "1d8df942-9a86-4cb4-c1df-bce08a12602c"
      },
      "outputs": [
        {
          "output_type": "stream",
          "name": "stderr",
          "text": [
            "Loading Data: 100%|██████████| 333/333 [08:17<00:00,  1.50s/it]\n"
          ]
        },
        {
          "output_type": "stream",
          "name": "stdout",
          "text": [
            "Size of dataset: 10.396484658122063 GB\n"
          ]
        }
      ],
      "source": [
        "import os\n",
        "import numpy as np\n",
        "from tqdm import tqdm\n",
        "\n",
        "data_path = \"drive/MyDrive/ML/AirborneOpticalSectioning/data\"\n",
        "\n",
        "input_batches = []\n",
        "target_batches = []\n",
        "\n",
        "NUM_BATCHES = 333\n",
        "\n",
        "for batch_idx in tqdm(range(NUM_BATCHES), desc=\"Loading Data\"):\n",
        "    input_file_name = f\"{batch_idx}.npy\"\n",
        "    target_file_name = f\"{batch_idx}_y.npy\"\n",
        "\n",
        "    input_batch = np.load(os.path.join(data_path, input_file_name))\n",
        "    target_batch = np.load(os.path.join(data_path, target_file_name))\n",
        "\n",
        "    input_batches.append(input_batch)\n",
        "    target_batches.append(target_batch)\n",
        "\n",
        "inputs = np.concatenate(input_batches, axis=0)\n",
        "targets = np.concatenate(target_batches, axis=0)\n",
        "\n",
        "import sys\n",
        "size_in_bytes = sys.getsizeof(inputs) + sys.getsizeof(targets)\n",
        "size_in_gigabytes = size_in_bytes / (1024 ** 3)\n",
        "print(f\"Size of dataset: {size_in_gigabytes} GB\")"
      ]
    },
    {
      "cell_type": "markdown",
      "metadata": {
        "id": "tI9zW_CSGIKm"
      },
      "source": [
        "## Create Dataset"
      ]
    },
    {
      "cell_type": "code",
      "execution_count": 3,
      "metadata": {
        "id": "iuK46vCvGH1v",
        "colab": {
          "base_uri": "https://localhost:8080/"
        },
        "outputId": "c4002729-6aa0-44b6-8cc3-6c874cf90c28"
      },
      "outputs": [
        {
          "output_type": "stream",
          "name": "stdout",
          "text": [
            "dataset size:  10646\n"
          ]
        }
      ],
      "source": [
        "import torch\n",
        "from torch.utils.data import Dataset\n",
        "\n",
        "class AOSDataset(Dataset):\n",
        "    def __init__(self, inputs, targets):\n",
        "        self.inputs = torch.from_numpy(inputs)\n",
        "        self.targets = torch.from_numpy(targets)\n",
        "\n",
        "    def __len__(self):\n",
        "        return len(self.inputs)\n",
        "\n",
        "    def __getitem__(self, idx):\n",
        "        input_sample = self.inputs[idx]\n",
        "        target_sample = self.targets[idx]\n",
        "        return input_sample, target_sample\n",
        "\n",
        "dataset = AOSDataset(inputs, targets)\n",
        "print(\"dataset size: \", len(dataset))"
      ]
    },
    {
      "cell_type": "markdown",
      "metadata": {
        "id": "Udm6R3rmGcg2"
      },
      "source": [
        "## DataLoaders"
      ]
    },
    {
      "cell_type": "code",
      "execution_count": 4,
      "metadata": {
        "id": "FYh2fZBFGfYA",
        "colab": {
          "base_uri": "https://localhost:8080/"
        },
        "outputId": "3d57038a-ee14-4337-c8c8-719e942f31de"
      },
      "outputs": [
        {
          "output_type": "stream",
          "name": "stdout",
          "text": [
            "train_size:  10646\n",
            "val_size:  532\n",
            "test_size:  1065\n"
          ]
        }
      ],
      "source": [
        "from torch.utils.data import DataLoader, random_split\n",
        "\n",
        "batch_size = 16\n",
        "\n",
        "train_frac = 0.85\n",
        "val_frac = 0.05\n",
        "test_frac = 0.1\n",
        "\n",
        "total_size = len(dataset)\n",
        "train_size = int(train_frac * total_size)\n",
        "val_size = int(val_frac * total_size)\n",
        "test_size = total_size - train_size - val_size\n",
        "\n",
        "train_dataset, val_dataset, test_dataset = random_split(dataset, [train_size, val_size, test_size])\n",
        "\n",
        "train_loader = DataLoader(train_dataset, batch_size=batch_size, shuffle=True)\n",
        "val_loader = DataLoader(val_dataset, batch_size=batch_size)\n",
        "test_loader = DataLoader(test_dataset, batch_size=batch_size)\n",
        "print(\"train_size: \", total_size)\n",
        "print(\"val_size: \", val_size)\n",
        "print(\"test_size: \", test_size)"
      ]
    },
    {
      "cell_type": "markdown",
      "metadata": {
        "id": "3yf8KqgqHAB0"
      },
      "source": [
        "## U-Net Model"
      ]
    },
    {
      "cell_type": "code",
      "execution_count": 5,
      "metadata": {
        "id": "JKFN7Tz0HCJE"
      },
      "outputs": [],
      "source": [
        "import torch\n",
        "import torch.nn as nn\n",
        "\n",
        "class UNet(nn.Module):\n",
        "    def __init__(self):\n",
        "        super(UNet, self).__init__()\n",
        "\n",
        "        # Contracting Path (Encoder)\n",
        "        self.enc_conv1 = self.conv_block(3, 64)\n",
        "        self.enc_conv2 = self.conv_block(64, 128)\n",
        "        self.enc_conv3 = self.conv_block(128, 256)\n",
        "        self.enc_conv4 = self.conv_block(256, 512)\n",
        "\n",
        "        self.pool = nn.MaxPool2d(2)\n",
        "\n",
        "        # Bottleneck\n",
        "        self.bottleneck = self.conv_block(512, 1024)\n",
        "\n",
        "        # Expansive Path (Decoder)\n",
        "        self.upconv4 = self.upconv(1024, 512)\n",
        "        self.dec_conv4 = self.conv_block(1024, 512)\n",
        "        self.upconv3 = self.upconv(512, 256)\n",
        "        self.dec_conv3 = self.conv_block(512, 256)\n",
        "        self.upconv2 = self.upconv(256, 128)\n",
        "        self.dec_conv2 = self.conv_block(256, 128)\n",
        "        self.upconv1 = self.upconv(128, 64)\n",
        "        self.dec_conv1 = self.conv_block(128, 64)\n",
        "\n",
        "        # Output Convolution\n",
        "        self.out_conv = nn.Conv2d(64, 1, kernel_size=1)\n",
        "\n",
        "    def conv_block(self, in_channels, out_channels):\n",
        "        return nn.Sequential(\n",
        "            nn.Conv2d(in_channels, out_channels, kernel_size=3, padding=1),\n",
        "            nn.ReLU(inplace=True),\n",
        "            nn.Conv2d(out_channels, out_channels, kernel_size=3, padding=1),\n",
        "            nn.ReLU(inplace=True)\n",
        "        )\n",
        "\n",
        "    def upconv(self, in_channels, out_channels):\n",
        "        return nn.ConvTranspose2d(in_channels, out_channels, kernel_size=2, stride=2)\n",
        "\n",
        "    def forward(self, x):\n",
        "        # Contracting Path\n",
        "        enc1 = self.enc_conv1(x)\n",
        "        x = self.pool(enc1)\n",
        "        enc2 = self.enc_conv2(x)\n",
        "        x = self.pool(enc2)\n",
        "        enc3 = self.enc_conv3(x)\n",
        "        x = self.pool(enc3)\n",
        "        enc4 = self.enc_conv4(x)\n",
        "        x = self.pool(enc4)\n",
        "\n",
        "        # Bottleneck\n",
        "        x = self.bottleneck(x)\n",
        "\n",
        "        # Expansive Path\n",
        "        x = self.upconv4(x)\n",
        "        x = torch.cat((x, enc4), dim=1)\n",
        "        x = self.dec_conv4(x)\n",
        "        x = self.upconv3(x)\n",
        "        x = torch.cat((x, enc3), dim=1)\n",
        "        x = self.dec_conv3(x)\n",
        "        x = self.upconv2(x)\n",
        "        x = torch.cat((x, enc2), dim=1)\n",
        "        x = self.dec_conv2(x)\n",
        "        x = self.upconv1(x)\n",
        "        x = torch.cat((x, enc1), dim=1)\n",
        "        x = self.dec_conv1(x)\n",
        "\n",
        "        # Output Convolution\n",
        "        x = self.out_conv(x)\n",
        "\n",
        "        return x"
      ]
    },
    {
      "cell_type": "markdown",
      "metadata": {
        "id": "OX6My_TGIcHE"
      },
      "source": [
        "## Training"
      ]
    },
    {
      "cell_type": "code",
      "execution_count": 6,
      "metadata": {
        "id": "BMVKH1chId_a"
      },
      "outputs": [],
      "source": [
        "import torch\n",
        "import wandb\n",
        "\n",
        "def train_epoch(train_loader, model, loss_fn, optimizer, device, epoch_id, log_every, val_loader=None, val_every=None):\n",
        "    model.train()\n",
        "    total_loss = 0\n",
        "\n",
        "    for sample_id, (inputs, targets) in enumerate(train_loader):\n",
        "        global_step = (epoch_id * len(train_loader)) + sample_id  # Updated to global_step\n",
        "\n",
        "        # Move data to the device\n",
        "        inputs, targets = inputs.float().to(device), targets.float().to(device)\n",
        "        # Forward pass\n",
        "        outputs = model(inputs)\n",
        "        loss = loss_fn(outputs, targets)\n",
        "\n",
        "        # Backward pass and optimization\n",
        "        optimizer.zero_grad()\n",
        "        loss.backward()\n",
        "        optimizer.step()\n",
        "\n",
        "        total_loss += loss.item()\n",
        "\n",
        "        # Logging\n",
        "        if log_every and global_step % log_every == 0:\n",
        "            wandb.log({\"Train Loss\": loss.item(), \"Global Step\": global_step})\n",
        "\n",
        "        # Validation\n",
        "        if val_loader and val_every and global_step % val_every == 0:\n",
        "            validate(val_loader, model, loss_fn, device, global_step)  # Pass global_step\n",
        "\n",
        "    average_loss = total_loss / len(train_loader)\n",
        "    print(f\"Epoch [{epoch_id+1}], Average Loss: {average_loss}\")\n",
        "    wandb.log({\"Average Train Loss\": average_loss, \"Epoch\": epoch_id+1})\n",
        "\n",
        "def validate(val_loader, model, loss_fn, device, global_step):\n",
        "    model.eval()\n",
        "    val_loss = 0\n",
        "    with torch.no_grad():\n",
        "        for inputs, targets in val_loader:\n",
        "            inputs, targets = inputs.float().to(device), targets.float().to(device)\n",
        "            outputs = model(inputs)\n",
        "            loss = loss_fn(outputs, targets)\n",
        "            val_loss += loss.item()\n",
        "    average_val_loss = val_loss / len(val_loader)\n",
        "    print(f\"Validation Loss: {average_val_loss}\")\n",
        "    wandb.log({\"Validation Loss\": average_val_loss, \"Global Step\": global_step})\n",
        "\n",
        "def train(train_loader, model, loss_fn, optimizer, device, log_every, val_loader, val_every, epochs):\n",
        "    for epoch_id in range(epochs):\n",
        "        train_epoch(train_loader, model, loss_fn, optimizer, device, epoch_id, log_every, val_loader=val_loader, val_every=val_every)"
      ]
    },
    {
      "cell_type": "code",
      "execution_count": null,
      "metadata": {
        "id": "C8QyMzWuKwjr",
        "colab": {
          "base_uri": "https://localhost:8080/",
          "height": 349
        },
        "outputId": "e418cdc8-c79f-49ad-ebf1-8582f5c13cbf"
      },
      "outputs": [
        {
          "output_type": "display_data",
          "data": {
            "text/plain": [
              "<IPython.core.display.Javascript object>"
            ],
            "application/javascript": [
              "\n",
              "        window._wandbApiKey = new Promise((resolve, reject) => {\n",
              "            function loadScript(url) {\n",
              "            return new Promise(function(resolve, reject) {\n",
              "                let newScript = document.createElement(\"script\");\n",
              "                newScript.onerror = reject;\n",
              "                newScript.onload = resolve;\n",
              "                document.body.appendChild(newScript);\n",
              "                newScript.src = url;\n",
              "            });\n",
              "            }\n",
              "            loadScript(\"https://cdn.jsdelivr.net/npm/postmate/build/postmate.min.js\").then(() => {\n",
              "            const iframe = document.createElement('iframe')\n",
              "            iframe.style.cssText = \"width:0;height:0;border:none\"\n",
              "            document.body.appendChild(iframe)\n",
              "            const handshake = new Postmate({\n",
              "                container: iframe,\n",
              "                url: 'https://wandb.ai/authorize'\n",
              "            });\n",
              "            const timeout = setTimeout(() => reject(\"Couldn't auto authenticate\"), 5000)\n",
              "            handshake.then(function(child) {\n",
              "                child.on('authorize', data => {\n",
              "                    clearTimeout(timeout)\n",
              "                    resolve(data)\n",
              "                });\n",
              "            });\n",
              "            })\n",
              "        });\n",
              "    "
            ]
          },
          "metadata": {}
        },
        {
          "output_type": "stream",
          "name": "stderr",
          "text": [
            "\u001b[34m\u001b[1mwandb\u001b[0m: Logging into wandb.ai. (Learn how to deploy a W&B server locally: https://wandb.me/wandb-server)\n",
            "\u001b[34m\u001b[1mwandb\u001b[0m: You can find your API key in your browser here: https://wandb.ai/authorize\n",
            "wandb: Paste an API key from your profile and hit enter, or press ctrl+c to quit:"
          ]
        },
        {
          "name": "stdout",
          "output_type": "stream",
          "text": [
            " ··········\n"
          ]
        },
        {
          "output_type": "stream",
          "name": "stderr",
          "text": [
            "\u001b[34m\u001b[1mwandb\u001b[0m: Appending key for api.wandb.ai to your netrc file: /root/.netrc\n",
            "\u001b[34m\u001b[1mwandb\u001b[0m: Currently logged in as: \u001b[33mtobias-katsch42\u001b[0m (\u001b[33mthdeepresearch\u001b[0m). Use \u001b[1m`wandb login --relogin`\u001b[0m to force relogin\n"
          ]
        },
        {
          "output_type": "display_data",
          "data": {
            "text/plain": [
              "<IPython.core.display.HTML object>"
            ],
            "text/html": [
              "Tracking run with wandb version 0.16.1"
            ]
          },
          "metadata": {}
        },
        {
          "output_type": "display_data",
          "data": {
            "text/plain": [
              "<IPython.core.display.HTML object>"
            ],
            "text/html": [
              "Run data is saved locally in <code>/content/wandb/run-20231207_133116-nqyv8rd7</code>"
            ]
          },
          "metadata": {}
        },
        {
          "output_type": "display_data",
          "data": {
            "text/plain": [
              "<IPython.core.display.HTML object>"
            ],
            "text/html": [
              "Syncing run <strong><a href='https://wandb.ai/thdeepresearch/AirborneOpticalSectioning/runs/nqyv8rd7' target=\"_blank\">misty-cherry-14</a></strong> to <a href='https://wandb.ai/thdeepresearch/AirborneOpticalSectioning' target=\"_blank\">Weights & Biases</a> (<a href='https://wandb.me/run' target=\"_blank\">docs</a>)<br/>"
            ]
          },
          "metadata": {}
        },
        {
          "output_type": "display_data",
          "data": {
            "text/plain": [
              "<IPython.core.display.HTML object>"
            ],
            "text/html": [
              " View project at <a href='https://wandb.ai/thdeepresearch/AirborneOpticalSectioning' target=\"_blank\">https://wandb.ai/thdeepresearch/AirborneOpticalSectioning</a>"
            ]
          },
          "metadata": {}
        },
        {
          "output_type": "display_data",
          "data": {
            "text/plain": [
              "<IPython.core.display.HTML object>"
            ],
            "text/html": [
              " View run at <a href='https://wandb.ai/thdeepresearch/AirborneOpticalSectioning/runs/nqyv8rd7' target=\"_blank\">https://wandb.ai/thdeepresearch/AirborneOpticalSectioning/runs/nqyv8rd7</a>"
            ]
          },
          "metadata": {}
        },
        {
          "output_type": "stream",
          "name": "stderr",
          "text": [
            "/usr/local/lib/python3.10/dist-packages/torch/nn/modules/loss.py:535: UserWarning: Using a target size (torch.Size([16, 512, 512])) that is different to the input size (torch.Size([16, 1, 512, 512])). This will likely lead to incorrect results due to broadcasting. Please ensure they have the same size.\n",
            "  return F.mse_loss(input, target, reduction=self.reduction)\n",
            "/usr/local/lib/python3.10/dist-packages/torch/nn/modules/loss.py:535: UserWarning: Using a target size (torch.Size([4, 512, 512])) that is different to the input size (torch.Size([4, 1, 512, 512])). This will likely lead to incorrect results due to broadcasting. Please ensure they have the same size.\n",
            "  return F.mse_loss(input, target, reduction=self.reduction)\n"
          ]
        },
        {
          "output_type": "stream",
          "name": "stdout",
          "text": [
            "Validation Loss: 10699.027142693014\n",
            "Validation Loss: 6315.890021829044\n",
            "Validation Loss: 5979.178531422334\n"
          ]
        }
      ],
      "source": [
        "import torch\n",
        "import torch.nn as nn\n",
        "import torch.optim as optim\n",
        "import wandb\n",
        "\n",
        "epochs = 100\n",
        "log_every = 100\n",
        "val_every = 1000\n",
        "\n",
        "wandb.login()\n",
        "\n",
        "wandb.init(project='AirborneOpticalSectioning')\n",
        "\n",
        "device = torch.device(\"cuda\" if torch.cuda.is_available() else \"cpu\")\n",
        "\n",
        "model = UNet()\n",
        "model.to(device)\n",
        "\n",
        "loss_fn = nn.MSELoss()\n",
        "optimizer = optim.Adam(model.parameters())\n",
        "\n",
        "train(train_loader, model, loss_fn, optimizer, device, log_every, val_loader, epochs, val_every)"
      ]
    }
  ],
  "metadata": {
    "accelerator": "GPU",
    "colab": {
      "collapsed_sections": [
        "Q0pbpd4FBS-A",
        "S461BiCuBOSp",
        "tI9zW_CSGIKm",
        "Udm6R3rmGcg2",
        "3yf8KqgqHAB0"
      ],
      "machine_shape": "hm",
      "provenance": [],
      "gpuType": "A100",
      "authorship_tag": "ABX9TyMfl7Dl7XDuw+vlDcwBDMbH",
      "include_colab_link": true
    },
    "kernelspec": {
      "display_name": "Python 3",
      "name": "python3"
    },
    "language_info": {
      "name": "python"
    }
  },
  "nbformat": 4,
  "nbformat_minor": 0
}